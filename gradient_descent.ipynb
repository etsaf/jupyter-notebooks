{
 "cells": [
  {
   "cell_type": "markdown",
   "metadata": {},
   "source": [
    "\n",
    "\n",
    "1. Find minimum of function using gradient descent\n",
    "\n",
    "$f(x, y) = 3x^4+y^4+2x^2y^2+4y^3-4x^2y+4x-5y$\n",
    "\n",
    "$\\frac{df}{dx} = 12x^3+4xy^2-8xy+4$\n",
    "\n",
    "$\\frac{df}{dy} = 4y^3+4x^2y+12y^2-4x^2-5$"
   ]
  },
  {
   "cell_type": "code",
   "execution_count": 2,
   "metadata": {},
   "outputs": [],
   "source": [
    "import numpy as np\n",
    "import scipy.linalg as sla\n",
    "\n",
    "import matplotlib.pyplot as plt\n",
    "%matplotlib inline"
   ]
  },
  {
   "cell_type": "code",
   "execution_count": 46,
   "metadata": {},
   "outputs": [
    {
     "name": "stdout",
     "output_type": "stream",
     "text": [
      "\n",
      "Point:  x = 1.0    y = -4.0\n",
      "Step:  0.02\n",
      "Minimum:  x = -0.07258574142744512   y = -2.8424296580627986\n",
      "Step:  0.01\n",
      "Minimum:  x = -0.07240334471585747   y = -2.844618349445511\n",
      "Step:  0.005\n",
      "Minimum:  x = -0.07207769293754356   y = -2.848266668567806\n",
      "\n",
      "Point:  x = -1.0    y = 0.0\n",
      "Step:  0.02\n",
      "Minimum:  x = -0.8304162853508438   y = 0.6403152748831197\n",
      "Step:  0.01\n",
      "Minimum:  x = -0.8295726155424092   y = 0.6387258907409825\n",
      "Step:  0.005\n",
      "Minimum:  x = -0.8278146869904608   y = 0.6345154046860407\n",
      "\n",
      "Point:  x = 0.0    y = 2.0\n",
      "Step:  0.02\n",
      "Minimum:  x = -0.830273451432169   y = 0.6406903096056912\n",
      "Step:  0.01\n",
      "Minimum:  x = -0.8283851172050402   y = 0.6400170571236937\n",
      "Step:  0.005\n",
      "Minimum:  x = -0.8234547669170077   y = 0.6386818313477837\n"
     ]
    }
   ],
   "source": [
    "from numpy.random import rand\n",
    "\n",
    "def f(x, y):\n",
    "    res = 3 * pow(x, 4) + pow(y, 4) + 2 * pow(x, 2) * pow(y, 2) + 4 * pow(y, 3)\n",
    "    return res - 4 * pow(x, 2) * y + 4 * x - 5 * y\n",
    "\n",
    "def x_derivative(x, y):\n",
    "    return 12 * pow(x, 3) + 4 * x * pow(y, 2) - 8 * x * y + 4\n",
    "\n",
    "def y_derivative(x, y):\n",
    "    return 4 * pow(y, 3) + 4 * pow(x, 2) * y + 12 * pow(y, 2) - 4 * pow(x, 2) - 5\n",
    "\n",
    "def gradient(x, y):\n",
    "    return np.array([x_derivative(x, y), y_derivative(x, y)])\n",
    "\n",
    "def gradient_descent(start, step):\n",
    "    eps = 0.001\n",
    "    prev_v = start - 10 * eps\n",
    "    v = start.copy()\n",
    "    max_i = 100000\n",
    "    i = 0\n",
    "    while (np.linalg.norm(v - prev_v) > eps and i < max_i):\n",
    "        prev_v = v.copy()\n",
    "        v -= step * gradient(v[0], v[1])\n",
    "        i += 1\n",
    "    return v\n",
    "\n",
    "x_i = [1.0, -1.0, 0.0]\n",
    "y_i = [-4.0, 0.0, 2.0]\n",
    "steps = [0.02, 0.01, 0.005]\n",
    "for i in range(3):\n",
    "    print()\n",
    "    print(\"Point:  x =\", x_i[i], \"   y =\", y_i[i])\n",
    "    for step in steps:\n",
    "        print(\"Step: \", step)\n",
    "        v = gradient_descent(np.array([x_i[i], y_i[i]]), step)\n",
    "        print(\"Minimum:  x =\", v[0], \"  y =\", v[1])"
   ]
  },
  {
   "cell_type": "markdown",
   "metadata": {},
   "source": [
    "\n",
    "\n",
    "\n",
    "\n",
    "2. Solve system of equations using gradient descent\n",
    "\n",
    "$\\begin{equation}\n",
    "\\begin{cases}\n",
    "sinx+siny=1 \\\\\n",
    "x^2+4y^2=4\n",
    "\\end{cases}\n",
    "\\end{equation}$\n",
    "\n",
    "$\\begin{equation}\n",
    "\\begin{cases}\n",
    "sinx+siny-1=0 \\\\\n",
    "x^2+4y^2-4=0\n",
    "\\end{cases}\n",
    "\\end{equation}$\n",
    "\n",
    "$\\begin{equation}\n",
    "\\begin{cases}\n",
    "(sinx+siny-1)^2=0 \\\\\n",
    "(x^2+4y^2-4)^2=0\n",
    "\\end{cases}\n",
    "\\end{equation}$\n",
    "\n",
    "\n",
    "$f(x, y) = (sinx+siny-1)^2+(x^2+4y^2-4)^2 \\rightarrow min$\n",
    "\n",
    "$\\frac{df}{dx} = 4x(x^2+4y^2-4)+2cosx(sinx+siny-1)$\n",
    "\n",
    "$\\frac{df}{dy} = 16y(x^2+4y^2-4)+2cosy(sinx+siny-1)$"
   ]
  },
  {
   "cell_type": "code",
   "execution_count": 10,
   "metadata": {},
   "outputs": [],
   "source": [
    "import math"
   ]
  },
  {
   "cell_type": "code",
   "execution_count": 47,
   "metadata": {},
   "outputs": [
    {
     "name": "stdout",
     "output_type": "stream",
     "text": [
      "\n",
      "Point:  x = 2.0    y = 0.0\n",
      "Step:  0.02\n",
      "Minimum:  x = 1.9923380389116823   y = 0.08742926477030201\n",
      "Value of f(x, y) at discovered minimum:    4.9856712760466546e-08\n"
     ]
    }
   ],
   "source": [
    "def f(x, y):\n",
    "    res1 = math.sin(x) + math.sin(y) - 1\n",
    "    res2 = pow(x, 2) + 4 * pow(y, 2) - 4\n",
    "    return pow(res1, 2) + pow(res2, 2)\n",
    "\n",
    "def x_derivative(x, y):\n",
    "    res1 = math.sin(x) + math.sin(y) - 1\n",
    "    res1 *= (2 * math.cos(x))\n",
    "    res2 = pow(x, 2) + 4 * pow(y, 2) - 4\n",
    "    res2 *= (4 * x)\n",
    "    return res1 + res2\n",
    "\n",
    "def y_derivative(x, y):\n",
    "    res1 = math.sin(x) + math.sin(y) - 1\n",
    "    res1 *= (2 * math.cos(y))\n",
    "    res2 = pow(x, 2) + 4 * pow(y, 2) - 4\n",
    "    res2 *= (16 * y)\n",
    "    return res1 + res2\n",
    "\n",
    "def gradient(x, y):\n",
    "    return np.array([x_derivative(x, y), y_derivative(x, y)])\n",
    "\n",
    "def gradient_descent(start, step):\n",
    "    eps = 0.00001\n",
    "    prev_v = start - 10 * eps\n",
    "    v = start.copy()\n",
    "    max_i = 100000\n",
    "    i = 0\n",
    "    while (np.linalg.norm(v - prev_v) > eps and i < max_i):\n",
    "        prev_v = v.copy()\n",
    "        v -= step * gradient(v[0], v[1])\n",
    "        i += 1\n",
    "    return v\n",
    "\n",
    "x_i = [2.0]\n",
    "y_i = [0.0]\n",
    "steps = [0.02]\n",
    "for i in range(1):\n",
    "    print()\n",
    "    print(\"Point:  x =\", x_i[i], \"   y =\", y_i[i])\n",
    "    for step in steps:\n",
    "        print(\"Step: \", step)\n",
    "        v = gradient_descent(np.array([x_i[i], y_i[i]]), step)\n",
    "        print(\"Minimum:  x =\", v[0], \"  y =\", v[1])\n",
    "        print(\"Value of f(x, y) at discovered minimum:   \", f(v[0], v[1]))"
   ]
  },
  {
   "cell_type": "code",
   "execution_count": null,
   "metadata": {},
   "outputs": [],
   "source": []
  }
 ],
 "metadata": {
  "kernelspec": {
   "display_name": "Python 3",
   "language": "python",
   "name": "python3"
  },
  "language_info": {
   "codemirror_mode": {
    "name": "ipython",
    "version": 3
   },
   "file_extension": ".py",
   "mimetype": "text/x-python",
   "name": "python",
   "nbconvert_exporter": "python",
   "pygments_lexer": "ipython3",
   "version": "3.8.3"
  }
 },
 "nbformat": 4,
 "nbformat_minor": 4
}
